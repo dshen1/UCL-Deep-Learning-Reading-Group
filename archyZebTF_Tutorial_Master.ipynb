{
 "cells": [
  {
   "cell_type": "markdown",
   "metadata": {
    "colab_type": "text",
    "id": "a3bskVXPvchm"
   },
   "source": [
    "# Hello, Deep Learning Reading Group\n",
    "## A curated version of TF tutorials 1 & 2\n",
    "### Archy de Berker & Zeb Kurth-Nelson"
   ]
  },
  {
   "cell_type": "markdown",
   "metadata": {
    "colab_type": "text",
    "id": "Rb5rSpcZvYbX"
   },
   "source": [
    "\n",
    "When you think of doing things in TensorFlow, you might want to think of creating tensors (like matrices), adding operations (that output other tensors), and then executing the computation (running the computational graph). \n",
    "\n",
    "In particular, it's important to realize that when you add an operation on tensors, it doesn't execute immediately.\n",
    "\n",
    "Rather, TensorFlow waits for you to define all the operations you want to perform. Then, TensorFlow optimizes the computation graph, deciding how to execute the computation, before generating the data. Because of this, a tensor in TensorFlow isn't so much holding the data as a placeholder for holding the data, waiting for the data to arrive when a computation is executed."
   ]
  },
  {
   "cell_type": "markdown",
   "metadata": {
    "colab_type": "text",
    "id": "E8FhiMivhcYB"
   },
   "source": [
    "## Adding two vectors in TensorFlow\n",
    "\n",
    "Let's start with something that should be simple. Let's add two length four vectors (two 1st-order tensors):\n",
    "\n",
    "$\\begin{bmatrix} 1. & 1. & 1. & 1.\\end{bmatrix} + \\begin{bmatrix} 2. & 2. & 2. & 2.\\end{bmatrix} = \\begin{bmatrix} 3. & 3. & 3. & 3.\\end{bmatrix}$"
   ]
  },
  {
   "cell_type": "code",
   "execution_count": 11,
   "metadata": {
    "cellView": "both",
    "colab": {
     "autoexec": {
      "startup": false,
      "wait_interval": 0
     },
     "output_extras": [
      {
       "item_id": 1
      }
     ]
    },
    "colab_type": "code",
    "collapsed": false,
    "executionInfo": {
     "elapsed": 131,
     "status": "ok",
     "timestamp": 1446243605678,
     "user": {
      "color": "#1FA15D",
      "displayName": "Michael Piatek",
      "isAnonymous": false,
      "isMe": true,
      "permissionId": "00327059602783983041",
      "photoUrl": "//lh6.googleusercontent.com/-wKJwK_OPl34/AAAAAAAAAAI/AAAAAAAAAlk/Rh3u6O2Z7ns/s50-c-k-no/photo.jpg",
      "sessionId": "7391995727249e65",
      "userId": "106975671469698476657"
     },
     "user_tz": 420
    },
    "id": "2iv3XQ6k3eF1",
    "outputId": "e21e1144-736a-4b1f-df78-a9ceab9d4c61"
   },
   "outputs": [
    {
     "name": "stdout",
     "output_type": "stream",
     "text": [
      "[ 3.  3.  3.  3.]\n"
     ]
    }
   ],
   "source": [
    "import tensorflow as tf\n",
    "\n",
    "with tf.Session():\n",
    "  input1 = tf.constant([1.0, 1.0, 1.0, 1.0])\n",
    "  input2 = tf.constant([2.0, 2.0, 2.0, 2.0])\n",
    "  output = tf.add(input1, input2)\n",
    "  result = output.eval()\n",
    "  print result"
   ]
  },
  {
   "cell_type": "markdown",
   "metadata": {
    "colab_type": "text",
    "id": "dqLV5GXT3wLy"
   },
   "source": [
    "What we're doing is creating two vectors, [1.0, 1.0, 1.0, 1.0] and [2.0, 2.0, 2.0, 2.0], and then adding them. Note that we actually have to use the tf function **tf.add** to do this - we can't just use +.\n",
    "\n",
    "We can do a similar thing using the very commonly utilised python package numpy:"
   ]
  },
  {
   "cell_type": "code",
   "execution_count": 42,
   "metadata": {
    "cellView": "both",
    "colab": {
     "autoexec": {
      "startup": false,
      "wait_interval": 0
     },
     "output_extras": [
      {
       "item_id": 1
      }
     ]
    },
    "colab_type": "code",
    "collapsed": false,
    "executionInfo": {
     "elapsed": 97,
     "status": "ok",
     "timestamp": 1446242021921,
     "user": {
      "color": "#1FA15D",
      "displayName": "Michael Piatek",
      "isAnonymous": false,
      "isMe": true,
      "permissionId": "00327059602783983041",
      "photoUrl": "//lh6.googleusercontent.com/-wKJwK_OPl34/AAAAAAAAAAI/AAAAAAAAAlk/Rh3u6O2Z7ns/s50-c-k-no/photo.jpg",
      "sessionId": "7391995727249e65",
      "userId": "106975671469698476657"
     },
     "user_tz": 420
    },
    "id": "MDWJf0lHAF4E",
    "outputId": "66d8c4a2-92b7-4048-b365-39dc42dff2bc"
   },
   "outputs": [
    {
     "name": "stdout",
     "output_type": "stream",
     "text": [
      "[ 1.  1.  1.  1.] + [ 2.  2.  2.  2.] = [ 3.  3.  3.  3.]\n"
     ]
    }
   ],
   "source": [
    "import numpy as np\n",
    "x, y = np.full(4, 1.0), np.full(4, 2.0)\n",
    "print \"{} + {} = {}\".format(x, y, x + y)"
   ]
  },
  {
   "cell_type": "markdown",
   "metadata": {},
   "source": [
    "One important thing to note for those coming from matlab: python isn't build primarily for doing maths. If you forget this and try to add, subtract, and multiply things in a laissez-faire manner, things go wrong:"
   ]
  },
  {
   "cell_type": "code",
   "execution_count": 43,
   "metadata": {
    "collapsed": false
   },
   "outputs": [
    {
     "name": "stdout",
     "output_type": "stream",
     "text": [
      "a=\n",
      "[1, 2, 3, 4]\n",
      "b=\n",
      "[5, 6, 7, 8]\n",
      "c=\n",
      "[1, 2, 3, 4, 5, 6, 7, 8]\n",
      "<type 'list'>\n"
     ]
    }
   ],
   "source": [
    "a = [1, 2, 3, 4]\n",
    "b = [5, 6, 7, 8]\n",
    "c = a+b\n",
    "\n",
    "print \"a=\"\n",
    "print a \n",
    "print \"b=\" \n",
    "print b\n",
    "print \"c=\" \n",
    "print c\n",
    "\n",
    "print type(c)\n"
   ]
  },
  {
   "cell_type": "markdown",
   "metadata": {},
   "source": [
    "So the default type when you just stick things in square brackets is NOT a numerical vector - it's a list. And when you use the + operation, it doesn't ADD your vectors - it CONCATENATES your list!\n",
    "\n",
    "Now actually, if we've defined our inputs as tensorflow constant objects, then we CAN just use the + operator, since the constant objects are essentially vectors and Python knows how to perform a + operation on vectors:"
   ]
  },
  {
   "cell_type": "code",
   "execution_count": 44,
   "metadata": {
    "collapsed": false
   },
   "outputs": [
    {
     "name": "stdout",
     "output_type": "stream",
     "text": [
      "[ 3.  3.  3.  3.]\n"
     ]
    }
   ],
   "source": [
    "with tf.Session():\n",
    "  input1 = tf.constant([1.0, 1.0, 1.0, 1.0])\n",
    "  input2 = tf.constant([2.0, 2.0, 2.0, 2.0])\n",
    "  output =input1+ input2\n",
    "  result = output.eval()\n",
    "  print result"
   ]
  },
  {
   "cell_type": "markdown",
   "metadata": {
    "colab_type": "text",
    "id": "I52jQOyO8vAn"
   },
   "source": [
    "## Details of adding two vectors in TensorFlow\n",
    "\n",
    "The example above of adding two vectors involves a lot more than it seems, so let's look at it in more depth.\n",
    "\n",
    ">`import tensorflow as tf`\n",
    "\n",
    "This import brings TensorFlow's public API into our IPython runtime environment.\n",
    "\n",
    ">`with tf.Session():`\n",
    "\n",
    "When you run an operation in TensorFlow, you need to do it in the context of a `Session`. \n",
    "\n",
    "A session holds the **computation graph**, which contains the tensors and the operations. When you create tensors and operations, they are not executed immediately, but wait for other operations and tensors to be added to the graph, only executing when finally requested to produce the results of the session. Deferring the execution like this provides additional opportunities for parallelism and optimization, as TensorFlow can decide how to combine operations and where to run them after TensorFlow knows about all the operations. \n",
    "\n",
    ">>`input1 = tf.constant([1.0, 1.0, 1.0, 1.0])`\n",
    "\n",
    ">>`input2 = tf.constant([2.0, 2.0, 2.0, 2.0])`\n",
    "\n",
    "The next two lines create tensors using a convenience function called `constant`, which is similar to numpy's `array` and numpy's `full`. If you look at the code for `constant`, you can see the details of what it is doing to create the tensor. In summary, it creates a tensor of the necessary shape and applies the constant operator to it to fill it with the provided values. The values to `constant` can be Python or numpy arrays. `constant` can take an optional shape parameter, which works similarly to numpy's `fill` if provided, and an optional name parameter, which can be used to put a more human-readable label on the operation in the TensorFlow operation graph.\n",
    "\n",
    ">>`output = tf.add(input1, input2)`\n",
    "\n",
    "You might think `add` just adds the two vectors now, **but it doesn't quite do that**. What it does is put the `add` operation **into the computational graph**. The results of the addition aren't available yet. They've been put in the computation graph, but the computation graph hasn't been executed yet.\n",
    "\n",
    ">>`result = output.eval()`\n",
    "\n",
    ">>`print result`\n",
    "\n",
    "`eval()` is also slightly more complicated than it looks. Yes, it does get the value of the vector (tensor) that results from the addition. It returns this as a numpy array, which can then be printed. But, it's important to realize it also **runs the computation graph at this point, because we demanded the output from the operation node of the graph; to produce that, it had to run the computation graph**. So, this is the point where the addition is actually performed, not when `add` was called, as `add` just put the addition operation into the TensorFlow computation graph."
   ]
  },
  {
   "cell_type": "markdown",
   "metadata": {},
   "source": [
    "# Key Concept 1: Tensorflow operations aren't performed until the Tensorflow session is evaluated"
   ]
  },
  {
   "cell_type": "markdown",
   "metadata": {
    "colab_type": "text",
    "id": "zszjoYUjkUNU"
   },
   "source": [
    "##  Adding two matrices"
   ]
  },
  {
   "cell_type": "markdown",
   "metadata": {
    "colab_type": "text",
    "id": "EWNYBCB6kbri"
   },
   "source": [
    "Next, let's do something very similar, adding two matrices:\n",
    "\n",
    "$\\begin{bmatrix}\n",
    "  1. & 1. & 1. \\\\\n",
    "  1. & 1. & 1. \\\\\n",
    "\\end{bmatrix} + \n",
    "\\begin{bmatrix}\n",
    "  1. & 2. & 3. \\\\\n",
    "  4. & 5. & 6. \\\\\n",
    "\\end{bmatrix} = \n",
    "\\begin{bmatrix}\n",
    "  2. & 3. & 4. \\\\\n",
    "  5. & 6. & 7. \\\\\n",
    "\\end{bmatrix}$"
   ]
  },
  {
   "cell_type": "code",
   "execution_count": 0,
   "metadata": {
    "cellView": "both",
    "colab": {
     "autoexec": {
      "startup": false,
      "wait_interval": 0
     },
     "output_extras": [
      {
       "item_id": 1
      }
     ]
    },
    "colab_type": "code",
    "collapsed": false,
    "executionInfo": {
     "elapsed": 1540,
     "status": "ok",
     "timestamp": 1446242690334,
     "user": {
      "color": "#1FA15D",
      "displayName": "Michael Piatek",
      "isAnonymous": false,
      "isMe": true,
      "permissionId": "00327059602783983041",
      "photoUrl": "//lh6.googleusercontent.com/-wKJwK_OPl34/AAAAAAAAAAI/AAAAAAAAAlk/Rh3u6O2Z7ns/s50-c-k-no/photo.jpg",
      "sessionId": "7391995727249e65",
      "userId": "106975671469698476657"
     },
     "user_tz": 420
    },
    "id": "tmWcCxSilYkg",
    "outputId": "f3a2e904-790b-42e1-9ca4-2f3c54d7f4a8"
   },
   "outputs": [
    {
     "name": "stdout",
     "output_type": "stream",
     "text": [
      "[[ 2.  3.  4.]\n",
      " [ 5.  6.  7.]]\n"
     ]
    }
   ],
   "source": [
    "import tensorflow as tf\n",
    "import numpy as np\n",
    "\n",
    "with tf.Session():\n",
    "  input1 = tf.constant(1.0, shape=[2, 3])\n",
    "  input2 = tf.constant(np.reshape(np.arange(1.0, 7.0, dtype=np.float32), (2, 3)))\n",
    "  output = tf.add(input1, input2)\n",
    "  print output.eval()"
   ]
  },
  {
   "cell_type": "markdown",
   "metadata": {},
   "source": [
    "The new operations that we're introducing here:\n",
    "\n",
    "  *np.reshape* : this takes a vector, and applies the shape argument to it, much like in matlab\n",
    "  \n",
    "  *np.arange*  : this produces a range of numbers (like matlab 1:n). But (oddly, in our opinion), it includes the FIRST value but not the LAST.\n",
    "  This is because python uses zero based indexing ([0] refers to the first item in the array) and the arange command essentially tells us what digit to start from, and how many items we'd like.\n",
    "  \n",
    "  So we get the numbers 1-6. We can also specify the type of number here - this is important, because we will struggle later on if our numbers end up in different formats."
   ]
  },
  {
   "cell_type": "markdown",
   "metadata": {
    "colab_type": "text",
    "id": "JuU3Bmglq1vd"
   },
   "source": [
    "## Task 1: Modify the above code to do multiplication of a weights matrix with some inputs to produce an output"
   ]
  },
  {
   "cell_type": "markdown",
   "metadata": {},
   "source": [
    "You should use the tensorflow command **tf.matmul** to do the multiplication, and **np.random.randn** to initialise your weights matrix with randomweights.\n",
    "\n",
    "Try using a placeholder variable to give you an adjustable number of features (i.e. the length of the input, and the first dimension of the weights matrix).\n",
    "\n",
    "At the end, print out your inputs and output."
   ]
  },
  {
   "cell_type": "code",
   "execution_count": 50,
   "metadata": {
    "collapsed": false
   },
   "outputs": [
    {
     "name": "stdout",
     "output_type": "stream",
     "text": [
      "[[ 1.  2.  3.]]\n",
      "[[ 0.14659549  0.29372248]\n",
      " [-0.34382105 -0.98671103]\n",
      " [ 1.36117852 -0.75574857]]\n",
      "[[ 3.54248905 -3.94694519]]\n"
     ]
    }
   ],
   "source": [
    "# Example answer\n",
    "\n",
    "import tensorflow as tf\n",
    "import numpy as np\n",
    "\n",
    "with tf.Session():\n",
    "    \n",
    "  feature_n = np.int32(3)\n",
    "  input   = tf.constant(np.arange(1.0,feature_n+1.0,dtype=np.float32), shape=[1,feature_n])\n",
    "  weights = tf.constant(np.random.randn(feature_n, 2).astype(np.float32))\n",
    "  output = tf.matmul(input, weights)\n",
    "  \n",
    "  print input.eval()\n",
    "\n",
    "  print weights.eval()\n",
    "    \n",
    "  print output.eval()\n",
    "    \n"
   ]
  },
  {
   "cell_type": "markdown",
   "metadata": {
    "colab_type": "text",
    "id": "JDAVTPhb22AP"
   },
   "source": [
    "What we have here is the basics of a simple neural network already. If we are reading in the input features, along with some expected output, and change the weights based on the error with the output each time, that's a neural network.\n"
   ]
  },
  {
   "cell_type": "markdown",
   "metadata": {
    "colab_type": "text",
    "id": "XhnBjAUILuy8"
   },
   "source": [
    "## Use of variables\n",
    "\n",
    "Let's look at adding two small matrices in a loop, not by creating new tensors every time, but by updating the existing values and then re-running the computation graph on the new data. \n",
    "\n",
    "This happens a lot with machine learning models, where we change some parameters each time such as gradient descent on some weights and then perform the same computations over and over again."
   ]
  },
  {
   "cell_type": "code",
   "execution_count": 0,
   "metadata": {
    "cellView": "both",
    "colab": {
     "autoexec": {
      "startup": false,
      "wait_interval": 0
     },
     "output_extras": [
      {
       "item_id": 1
      }
     ]
    },
    "colab_type": "code",
    "collapsed": false,
    "executionInfo": {
     "elapsed": 180,
     "status": "ok",
     "timestamp": 1446244201894,
     "user": {
      "color": "#1FA15D",
      "displayName": "Michael Piatek",
      "isAnonymous": false,
      "isMe": true,
      "permissionId": "00327059602783983041",
      "photoUrl": "//lh6.googleusercontent.com/-wKJwK_OPl34/AAAAAAAAAAI/AAAAAAAAAlk/Rh3u6O2Z7ns/s50-c-k-no/photo.jpg",
      "sessionId": "7391995727249e65",
      "userId": "106975671469698476657"
     },
     "user_tz": 420
    },
    "id": "vJ_AgZ8lLtRv",
    "outputId": "8d3aadaa-2b34-4642-889b-e3daaf5ee693"
   },
   "outputs": [
    {
     "name": "stdout",
     "output_type": "stream",
     "text": [
      "[[-0.41494703  0.47648168]] [[-0.41494703  0.47648168]]\n",
      "[[ 0.35746408  0.99504066]] [[-0.05748296  1.47152233]]\n",
      "[[-0.46462393 -0.80201006]] [[-0.52210689  0.66951227]]\n",
      "[[-0.99513483 -0.42322445]] [[-1.51724172  0.24628782]]\n",
      "[[ 0.13371086 -0.85545826]] [[-1.38353086 -0.60917044]]\n"
     ]
    }
   ],
   "source": [
    "#@test {\"output\": \"ignore\"}\n",
    "import tensorflow as tf\n",
    "import numpy as np\n",
    "\n",
    "with tf.Session() as sess:\n",
    "  # Set up two variables, total and weights, that we'll change repeatedly.\n",
    "  total = tf.Variable(tf.zeros([1, 2]))\n",
    "  weights = tf.Variable(tf.random_uniform([1,2]))\n",
    "  \n",
    "  # Initialize the variables we defined above.\n",
    "  tf.initialize_all_variables().run()\n",
    "  \n",
    "  # This only adds the operators to the graph right now. The assignment\n",
    "  # and addition operations are not performed yet.\n",
    "  update_weights = tf.assign(weights, tf.random_uniform([1, 2], -1.0, 1.0))\n",
    "  update_total = tf.assign(total, tf.add(total, weights))\n",
    "  \n",
    "  for _ in range(5):\n",
    "    # Actually run the operation graph, so randomly generate weights and then\n",
    "    # add them into the total. Order does matter here. We need to update\n",
    "    # the weights before updating the total.\n",
    "    sess.run(update_weights)\n",
    "    sess.run(update_total)\n",
    "    \n",
    "    print weights.eval(), total.eval()"
   ]
  },
  {
   "cell_type": "markdown",
   "metadata": {},
   "source": [
    "# Key Concept 2: 'Variables' in TF have a special meaning: they're things that we're going to repeatedly give new values to, using the command 'assign' "
   ]
  },
  {
   "cell_type": "markdown",
   "metadata": {
    "colab_type": "text",
    "id": "kSYJr89aM_n0"
   },
   "source": [
    "Starting off, the code creates two variables, `total` and `weights`. `total` is initialized to \\[0, 0\\] and `weights` is initialized to random values between -1 and 1.\n",
    "\n",
    "Next, two assignment operators are added to the graph, one that updates weights with random values from [-1, 1], the other that updates the total with the new weights. Again, the operators are not executed here. In fact, this isn't even inside the loop. We won't execute these operations until the `eval` call inside the loop.\n",
    "\n",
    "Finally, in the for loop, we run each of the operators. In each iteration of the loop, this executes the operators we added earlier, first putting random values into the weights, then updating the totals with the new weights. This call uses `eval` on the session; the code also could have called `eval` on the operators (e.g. `update_weights.eval`).\n",
    "\n",
    "It can be a little hard to wrap your head around exactly what computation is done when. The important thing to remember is that computation is only performed on demand.\n",
    "\n",
    "Variables can be useful in cases where you have a large amount of computation and data that you want to use over and over again with just a minor change to the input each time. That happens quite a bit with neural networks, for example, where you just want to update the weights each time you go through the batches of input data, then run the same operations over again."
   ]
  },
  {
   "cell_type": "markdown",
   "metadata": {
    "colab_type": "text",
    "id": "fL3WfAbKzqr5"
   },
   "source": [
    "# Task 2: The code below runs a simple model, where we find a weight which scales the input to match a target. We also give you some code for plotting. Combine them to plot the progress of the model towards convergence. You may want to fiddle with the learning rate and number of iterations to get pretty data."
   ]
  },
  {
   "cell_type": "code",
   "execution_count": 92,
   "metadata": {
    "collapsed": false
   },
   "outputs": [
    {
     "data": {
      "text/plain": [
       "<matplotlib.collections.PathCollection at 0x7fb870359e50>"
      ]
     },
     "execution_count": 92,
     "metadata": {},
     "output_type": "execute_result"
    },
    {
     "data": {
      "image/png": "[encoded data removed]",
      "text/plain": [
       "<matplotlib.figure.Figure at 0x7fb85cd5a110>"
      ]
     },
     "metadata": {},
     "output_type": "display_data"
    }
   ],
   "source": [
    "# Basic plotting\n",
    "\n",
    "import matplotlib.pyplot as plt\n",
    "%matplotlib inline \n",
    "\n",
    "plt.scatter(np.random.random([100,1]),np.random.random([100,1]))\n"
   ]
  },
  {
   "cell_type": "code",
   "execution_count": 97,
   "metadata": {
    "collapsed": false
   },
   "outputs": [
    {
     "name": "stdout",
     "output_type": "stream",
     "text": [
      "\n",
      "[ 0.95002389] [ 0.16185382] [ 0.15376499] [ 0.19043355] [-0.03666855]\n",
      "[ 0.95002389] [ 0.16552067] [ 0.15724859] [ 0.19043355] [-0.03318496]\n",
      "[ 0.95002389] [ 0.16883916] [ 0.16040123] [ 0.19043355] [-0.03003232]\n",
      "[ 0.95002389] [ 0.1718424] [ 0.16325438] [ 0.19043355] [-0.02717917]\n",
      "[ 0.95002389] [ 0.17456031] [ 0.16583647] [ 0.19043355] [-0.02459708]\n",
      "[ 0.95002389] [ 0.17702001] [ 0.16817324] [ 0.19043355] [-0.02226031]\n",
      "[ 0.95002389] [ 0.17924604] [ 0.17028801] [ 0.19043355] [-0.02014554]\n",
      "[ 0.95002389] [ 0.18126059] [ 0.17220189] [ 0.19043355] [-0.01823166]\n",
      "[ 0.95002389] [ 0.18308376] [ 0.17393394] [ 0.19043355] [-0.01649961]\n",
      "[ 0.95002389] [ 0.18473372] [ 0.17550145] [ 0.19043355] [-0.0149321]\n",
      "[ 0.95002389] [ 0.18622693] [ 0.17692004] [ 0.19043355] [-0.01351351]\n",
      "[ 0.95002389] [ 0.18757829] [ 0.17820385] [ 0.19043355] [-0.0122297]\n",
      "[ 0.95002389] [ 0.18880126] [ 0.17936571] [ 0.19043355] [-0.01106784]\n",
      "[ 0.95002389] [ 0.18990804] [ 0.18041718] [ 0.19043355] [-0.01001637]\n",
      "[ 0.95002389] [ 0.19090968] [ 0.18136875] [ 0.19043355] [-0.00906479]\n",
      "[ 0.95002389] [ 0.19181617] [ 0.18222994] [ 0.19043355] [-0.00820361]\n",
      "[ 0.95002389] [ 0.19263652] [ 0.1830093] [ 0.19043355] [-0.00742425]\n",
      "[ 0.95002389] [ 0.19337894] [ 0.18371461] [ 0.19043355] [-0.00671893]\n",
      "[ 0.95002389] [ 0.19405083] [ 0.18435293] [ 0.19043355] [-0.00608061]\n",
      "[ 0.95002389] [ 0.19465889] [ 0.18493059] [ 0.19043355] [-0.00550295]\n",
      "[ 0.95002389] [ 0.19520919] [ 0.1854534] [ 0.19043355] [-0.00498015]\n",
      "[ 0.95002389] [ 0.1957072] [ 0.18592651] [ 0.19043355] [-0.00450704]\n",
      "[ 0.95002389] [ 0.1961579] [ 0.1863547] [ 0.19043355] [-0.00407885]\n",
      "[ 0.95002389] [ 0.19656579] [ 0.1867422] [ 0.19043355] [-0.00369135]\n",
      "[ 0.95002389] [ 0.19693492] [ 0.18709289] [ 0.19043355] [-0.00334066]\n",
      "[ 0.95002389] [ 0.19726899] [ 0.18741025] [ 0.19043355] [-0.0030233]\n",
      "[ 0.95002389] [ 0.19757132] [ 0.18769747] [ 0.19043355] [-0.00273608]\n",
      "[ 0.95002389] [ 0.19784492] [ 0.18795741] [ 0.19043355] [-0.00247614]\n",
      "[ 0.95002389] [ 0.19809254] [ 0.18819264] [ 0.19043355] [-0.00224091]\n",
      "[ 0.95002389] [ 0.19831663] [ 0.18840554] [ 0.19043355] [-0.002028]\n"
     ]
    }
   ],
   "source": [
    "# Target-matching model\n",
    "\n",
    "import tensorflow as tf\n",
    "import numpy as np\n",
    "\n",
    "# we have a single input\n",
    "print \n",
    "input     = tf.constant(np.random.random([1]).astype(np.float32))\n",
    "target    = tf.constant(np.random.random([1]).astype(np.float32))\n",
    "\n",
    "alpha     = tf.constant([0.1])\n",
    "nIters    = 30\n",
    "\n",
    "totalTrack = np.zeros([nIters,1])\n",
    "# Set up two variables, total and weights, that we'll change repeatedly.\n",
    "\n",
    "weights = tf.Variable(tf.random_uniform([1]))\n",
    "total   = tf.Variable(tf.zeros([1]))\n",
    "\n",
    "\n",
    "# This only adds the operators to the graph right now. The assignment\n",
    "# and addition operations are not performed yet.\n",
    "update_total = tf.assign(total, tf.mul(input, weights))\n",
    "update_weights = tf.assign(weights, weights-(alpha*(total-target)))\n",
    "\n",
    "\n",
    "with tf.Session() as sess:\n",
    "    \n",
    "  # Initialize the variables we defined above.\n",
    "  tf.initialize_all_variables().run()\n",
    "\n",
    "  for _ in range(nIters):\n",
    "    # Actually run the operation graph, so randomly generate weights and then\n",
    "    # add them into the total. Order does matter here. We need to update\n",
    "    # the weights before updating the total.\n",
    "    sess.run(update_weights)\n",
    "    sess.run(update_total)\n",
    "    \n",
    "    totalTrack[_]=total.eval()\n",
    "    \n",
    "    print input.eval(),weights.eval(), total.eval(), target.eval(), total.eval()-target.eval()"
   ]
  },
  {
   "cell_type": "code",
   "execution_count": 104,
   "metadata": {
    "collapsed": false
   },
   "outputs": [
    {
     "data": {
      "image/png": "[encoded data removed]",
      "text/plain": [
       "<matplotlib.figure.Figure at 0x7fb84affb910>"
      ]
     },
     "metadata": {},
     "output_type": "display_data"
    }
   ],
   "source": [
    "\n",
    "import matplotlib.pyplot as plt\n",
    "%matplotlib inline \n",
    "\n",
    "plt.plot(np.arange(1,nIters+1),totalTrack)\n",
    "\n",
    "with tf.Session() as sess:\n",
    "    \n",
    "  plt.plot(np.arange(1,nIters+1),np.full([nIters,1],target.eval()))"
   ]
  },
  {
   "cell_type": "markdown",
   "metadata": {},
   "source": [
    "Top tips for this section:\n",
    "\n",
    "- It's important to get your types matching. The default for TF appears to be float32 - if you create something with tf.zeros, tf.constant etc. it will be float32. For numpy, things often come out as float64. You need to use the function .astype(np.float32) when you create a numpy variable in order to match types\n",
    "\n",
    "\n",
    "- If you define constants using a tensorflow function e.g. input = tf.random_uniform, it will be reassigned every time you run the session. This is crucial, because in situations in which you are iteratively updating something - such as the weights in a model - anything you have randomly assigned will be REASSIGNED on every loop. This is a bad thing. To avoid this, use numpy functions to set up your constants:\n",
    "\n",
    "    input     = tf.constant(np.random.random([1]).astype(np.float32))\n",
    "    \n",
    "    \n",
    "- The only things that actually need to be placed inside the session definition (i.e. after the with tf.session() bit) are evaluations; such as initializing variables, and running loops. * If you want to re-use any of your variables from the model which are tensorflow objects, such as input, you'll need to start a sessioni nyour plotting code *"
   ]
  },
  {
   "cell_type": "markdown",
   "metadata": {},
   "source": [
    "# Using the TF gradient descent algorithm "
   ]
  },
  {
   "cell_type": "markdown",
   "metadata": {},
   "source": [
    "Now we're going to alter our model to use Tensorflow's heavy lifting capabilities for model optimisation.\n",
    "\n",
    "To do this, we only need two lines:\n",
    "\n",
    "1. To tell TF what to minimise. We're going to choose the squared error\n",
    "2. To establish the optimiser, with a certain step size, with the intention of minimising the variable we created in the first step\n",
    "\n",
    "Now, we can use sess.run(ourOptimiser) to perform the optimisation!"
   ]
  },
  {
   "cell_type": "code",
   "execution_count": 6,
   "metadata": {
    "collapsed": false
   },
   "outputs": [
    {
     "name": "stdout",
     "output_type": "stream",
     "text": [
      "\n",
      "[ 0.65546012] [ 0.62422979] [ 0.40915772] [ 0.67555285] [-0.26639512]\n",
      "[ 0.65546012] [ 0.79884118] [ 0.52360851] [ 0.67555285] [-0.15194434]\n",
      "[ 0.65546012] [ 0.89843464] [ 0.58888805] [ 0.67555285] [-0.0866648]\n",
      "[ 0.65546012] [ 0.95523995] [ 0.6261217] [ 0.67555285] [-0.04943115]\n",
      "[ 0.65546012] [ 0.98764008] [ 0.64735872] [ 0.67555285] [-0.02819413]\n",
      "[ 0.65546012] [ 1.0061202] [ 0.65947169] [ 0.67555285] [-0.01608115]\n",
      "[ 0.65546012] [ 1.01666081] [ 0.66638064] [ 0.67555285] [-0.0091722]\n",
      "[ 0.65546012] [ 1.02267277] [ 0.67032123] [ 0.67555285] [-0.00523162]\n",
      "[ 0.65546012] [ 1.02610195] [ 0.67256892] [ 0.67555285] [-0.00298393]\n",
      "[ 0.65546012] [ 1.02805781] [ 0.67385089] [ 0.67555285] [-0.00170195]\n",
      "[ 0.65546012] [ 1.02917337] [ 0.67458212] [ 0.67555285] [-0.00097072]\n",
      "[ 0.65546012] [ 1.02980959] [ 0.67499912] [ 0.67555285] [-0.00055373]\n",
      "[ 0.65546012] [ 1.03017259] [ 0.67523706] [ 0.67555285] [-0.00031579]\n",
      "[ 0.65546012] [ 1.03037953] [ 0.67537272] [ 0.67555285] [-0.00018013]\n",
      "[ 0.65546012] [ 1.03049755] [ 0.67545003] [ 0.67555285] [-0.00010282]\n",
      "[ 0.65546012] [ 1.0305649] [ 0.67549419] [ 0.67555285] [ -5.86509705e-05]\n",
      "[ 0.65546012] [ 1.03060329] [ 0.67551935] [ 0.67555285] [ -3.34978104e-05]\n",
      "[ 0.65546012] [ 1.03062522] [ 0.67553371] [ 0.67555285] [ -1.91330910e-05]\n",
      "[ 0.65546012] [ 1.03063774] [ 0.67554194] [ 0.67555285] [ -1.09076500e-05]\n",
      "[ 0.65546012] [ 1.03064489] [ 0.67554665] [ 0.67555285] [ -6.19888306e-06]\n",
      "[ 0.65546012] [ 1.03064895] [ 0.67554927] [ 0.67555285] [ -3.57627869e-06]\n",
      "[ 0.65546012] [ 1.03065133] [ 0.67555082] [ 0.67555285] [ -2.02655792e-06]\n",
      "[ 0.65546012] [ 1.03065264] [ 0.67555171] [ 0.67555285] [ -1.13248825e-06]\n",
      "[ 0.65546012] [ 1.03065336] [ 0.67555219] [ 0.67555285] [ -6.55651093e-07]\n",
      "[ 0.65546012] [ 1.03065383] [ 0.67555249] [ 0.67555285] [ -3.57627869e-07]\n",
      "[ 0.65546012] [ 1.03065407] [ 0.67555267] [ 0.67555285] [ -1.78813934e-07]\n",
      "[ 0.65546012] [ 1.03065419] [ 0.67555273] [ 0.67555285] [ -1.19209290e-07]\n",
      "[ 0.65546012] [ 1.03065431] [ 0.67555279] [ 0.67555285] [ -5.96046448e-08]\n",
      "[ 0.65546012] [ 1.03065431] [ 0.67555279] [ 0.67555285] [ -5.96046448e-08]\n",
      "[ 0.65546012] [ 1.03065431] [ 0.67555279] [ 0.67555285] [ -5.96046448e-08]\n",
      "[ 0.65546012] [ 1.03065431] [ 0.67555279] [ 0.67555285] [ -5.96046448e-08]\n",
      "[ 0.65546012] [ 1.03065431] [ 0.67555279] [ 0.67555285] [ -5.96046448e-08]\n",
      "[ 0.65546012] [ 1.03065431] [ 0.67555279] [ 0.67555285] [ -5.96046448e-08]\n",
      "[ 0.65546012] [ 1.03065431] [ 0.67555279] [ 0.67555285] [ -5.96046448e-08]\n",
      "[ 0.65546012] [ 1.03065431] [ 0.67555279] [ 0.67555285] [ -5.96046448e-08]\n",
      "[ 0.65546012] [ 1.03065431] [ 0.67555279] [ 0.67555285] [ -5.96046448e-08]\n",
      "[ 0.65546012] [ 1.03065431] [ 0.67555279] [ 0.67555285] [ -5.96046448e-08]\n",
      "[ 0.65546012] [ 1.03065431] [ 0.67555279] [ 0.67555285] [ -5.96046448e-08]\n",
      "[ 0.65546012] [ 1.03065431] [ 0.67555279] [ 0.67555285] [ -5.96046448e-08]\n",
      "[ 0.65546012] [ 1.03065431] [ 0.67555279] [ 0.67555285] [ -5.96046448e-08]\n"
     ]
    }
   ],
   "source": [
    "# Target-matching model\n",
    "\n",
    "import tensorflow as tf\n",
    "import numpy as np\n",
    "\n",
    "# we have a single input\n",
    "print \n",
    "input     = tf.constant(np.random.random([1]).astype(np.float32))\n",
    "target    = tf.constant(np.random.random([1]).astype(np.float32))\n",
    "\n",
    "alpha     = tf.constant([0.1])\n",
    "nIters    = 40\n",
    "\n",
    "totalTrack = np.zeros([nIters,1])\n",
    "# Set up two variables, total and weights, that we'll change repeatedly.\n",
    "\n",
    "weights = tf.Variable(tf.random_uniform([1]))\n",
    "\n",
    "# This only adds the operators to the graph right now. The assignment\n",
    "# and addition operations are not performed yet.\n",
    "total = tf.mul(input, weights)\n",
    "\n",
    "# First, we define our loss function. We're going to stick with the difference between our output and a target.\n",
    "loss =tf.square(total-target)\n",
    "\n",
    "# Optimizer\n",
    "ourOptimiser = tf.train.GradientDescentOptimizer(0.5).minimize(loss)\n",
    "\n",
    "\n",
    "with tf.Session() as sess:\n",
    "    \n",
    "  # Initialize the variables we defined above.\n",
    "  tf.initialize_all_variables().run()\n",
    "\n",
    "  for _ in range(nIters):\n",
    "    # Actually run the operation graph, so randomly generate weights and then\n",
    "    # add them into the total. Order does matter here. We need to update\n",
    "    # the weights before updating the total.\n",
    " \n",
    "\n",
    "    sess.run(ourOptimiser)\n",
    "    \n",
    "    \n",
    "    totalTrack[_]=total.eval()\n",
    "    \n",
    "    print input.eval(),weights.eval(), total.eval(), target.eval(), total.eval()-target.eval()"
   ]
  },
  {
   "cell_type": "code",
   "execution_count": 7,
   "metadata": {
    "collapsed": false
   },
   "outputs": [
    {
     "data": {
      "image/png": "[encoded data removed]",
      "text/plain": [
       "<matplotlib.figure.Figure at 0x7fdb49cab7d0>"
      ]
     },
     "metadata": {},
     "output_type": "display_data"
    }
   ],
   "source": [
    "import matplotlib.pyplot as plt\n",
    "%matplotlib inline \n",
    "\n",
    "plt.plot(np.arange(1,nIters+1),totalTrack)\n",
    "\n",
    "with tf.Session() as sess:\n",
    "    \n",
    "  plt.plot(np.arange(1,nIters+1),np.full([nIters,1],target.eval()))"
   ]
  }
 ],
 "metadata": {
  "colab": {
   "default_view": {},
   "name": "Untitled",
   "provenance": [],
   "version": "0.3.2",
   "views": {}
  },
  "kernelspec": {
   "display_name": "Python 2",
   "language": "python",
   "name": "python2"
  },
  "language_info": {
   "codemirror_mode": {
    "name": "ipython",
    "version": 2
   },
   "file_extension": ".py",
   "mimetype": "text/x-python",
   "name": "python",
   "nbconvert_exporter": "python",
   "pygments_lexer": "ipython2",
   "version": "2.7.6"
  }
 },
 "nbformat": 4,
 "nbformat_minor": 0
}
