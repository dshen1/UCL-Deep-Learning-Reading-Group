{
 "cells": [
  {
   "cell_type": "markdown",
   "metadata": {},
   "source": [
    "# Chapter 1: linear algebra\n",
    "This notebook will show some example usage of linear algebra using numpy.\n",
    "\n",
    "## Import packages"
   ]
  },
  {
   "cell_type": "code",
   "execution_count": 18,
   "metadata": {
    "collapsed": false
   },
   "outputs": [
    {
     "name": "stdout",
     "output_type": "stream",
     "text": [
      "['LinAlgError', 'Tester', '__builtins__', '__doc__', '__file__', '__name__', '__package__', '__path__', '_umath_linalg', 'absolute_import', 'bench', 'cholesky', 'cond', 'det', 'division', 'eig', 'eigh', 'eigvals', 'eigvalsh', 'info', 'inv', 'lapack_lite', 'linalg', 'lstsq', 'matrix_power', 'matrix_rank', 'multi_dot', 'norm', 'pinv', 'print_function', 'qr', 'slogdet', 'solve', 'svd', 'tensorinv', 'tensorsolve', 'test']\n"
     ]
    }
   ],
   "source": [
    "import numpy as np\n",
    "import matplotlib.pyplot as plt\n",
    "%matplotlib inline\n",
    "print dir(np.linalg)"
   ]
  },
  {
   "cell_type": "markdown",
   "metadata": {},
   "source": [
    "## build some vectors and matrices\n",
    "### 1d vector"
   ]
  },
  {
   "cell_type": "code",
   "execution_count": 19,
   "metadata": {
    "collapsed": false
   },
   "outputs": [
    {
     "name": "stdout",
     "output_type": "stream",
     "text": [
      "[1 2 3 4] (4L,)\n"
     ]
    }
   ],
   "source": [
    "a = np.array([1, 2, 3, 4])\n",
    "print a, a.shape"
   ]
  },
  {
   "cell_type": "markdown",
   "metadata": {},
   "source": [
    "### 1d column vector"
   ]
  },
  {
   "cell_type": "code",
   "execution_count": 20,
   "metadata": {
    "collapsed": false
   },
   "outputs": [
    {
     "name": "stdout",
     "output_type": "stream",
     "text": [
      "[[1]\n",
      " [2]\n",
      " [3]\n",
      " [4]]\n"
     ]
    }
   ],
   "source": [
    "print a[:,np.newaxis]"
   ]
  },
  {
   "cell_type": "markdown",
   "metadata": {},
   "source": [
    "### 2d matrix "
   ]
  },
  {
   "cell_type": "code",
   "execution_count": 21,
   "metadata": {
    "collapsed": false
   },
   "outputs": [
    {
     "name": "stdout",
     "output_type": "stream",
     "text": [
      "[[-0.16149351  0.19503577 -0.94285276 -1.10015008  2.13868216 -0.80491789]\n",
      " [ 0.54269021 -0.47697543 -0.53464946 -0.50511982  0.51080926  0.86115333]\n",
      " [ 1.15002974  0.72158796 -0.37054173  0.4227427   1.39327836 -0.712838  ]]\n"
     ]
    }
   ],
   "source": [
    "A = np.random.normal(size=(3,6))\n",
    "print A"
   ]
  },
  {
   "cell_type": "markdown",
   "metadata": {},
   "source": [
    "## Basic operations on vectors and matrices"
   ]
  },
  {
   "cell_type": "markdown",
   "metadata": {},
   "source": [
    "### vector and matrix addition"
   ]
  },
  {
   "cell_type": "code",
   "execution_count": 22,
   "metadata": {
    "collapsed": false
   },
   "outputs": [
    {
     "name": "stdout",
     "output_type": "stream",
     "text": [
      "b looks like: [ 4  6  8 10] (4L,)\n",
      "[ 5  8 11 14]\n",
      "[-3 -4 -5 -6]\n",
      "[[-0.32298703  0.39007153 -1.88570552 -2.20030016  4.27736433 -1.60983578]\n",
      " [ 1.08538041 -0.95395086 -1.06929891 -1.01023963  1.02161853  1.72230666]\n",
      " [ 2.30005947  1.44317592 -0.74108346  0.8454854   2.78655673 -1.425676  ]]\n"
     ]
    }
   ],
   "source": [
    "b = np.arange(4, 12, 2)\n",
    "print 'b looks like:', b, b.shape\n",
    "print a+b\n",
    "print a-b\n",
    "print A+A"
   ]
  },
  {
   "cell_type": "markdown",
   "metadata": {},
   "source": [
    "### broadcasting\n",
    "add a vector to a matrix and it will be automatically broadcast along the matching dimension. Use with care."
   ]
  },
  {
   "cell_type": "code",
   "execution_count": 23,
   "metadata": {
    "collapsed": false
   },
   "outputs": [
    {
     "name": "stdout",
     "output_type": "stream",
     "text": [
      "[[ 0.83850649  2.19503577  2.05714724  2.89984992  7.13868216  5.19508211]\n",
      " [ 1.54269021  1.52302457  2.46535054  3.49488018  5.51080926  6.86115333]\n",
      " [ 2.15002974  2.72158796  2.62945827  4.4227427   6.39327836  5.287162  ]]\n",
      "[[ 0.83850649  1.19503577  0.05714724 -0.10015008  3.13868216  0.19508211]\n",
      " [ 2.54269021  1.52302457  1.46535054  1.49488018  2.51080926  2.86115333]\n",
      " [ 4.15002974  3.72158796  2.62945827  3.4227427   4.39327836  2.287162  ]]\n"
     ]
    }
   ],
   "source": [
    "print A+np.array([1, 2, 3, 4, 5, 6])\n",
    "print A+np.array([1, 2, 3])[:, np.newaxis]"
   ]
  },
  {
   "cell_type": "markdown",
   "metadata": {},
   "source": [
    "### transpose"
   ]
  },
  {
   "cell_type": "code",
   "execution_count": 24,
   "metadata": {
    "collapsed": false
   },
   "outputs": [
    {
     "name": "stdout",
     "output_type": "stream",
     "text": [
      "a:  [1 2 3 4] (4L,)\n",
      "a transposed with newaxis:  [[1 2 3 4]] (1L, 4L)\n"
     ]
    }
   ],
   "source": [
    "print 'a: ', a, a.shape\n",
    "a_transpose = a[:,np.newaxis].transpose()\n",
    "print 'a transposed with newaxis: ', a_transpose, a_transpose.shape"
   ]
  },
  {
   "cell_type": "markdown",
   "metadata": {},
   "source": [
    "### Matrix multiplication"
   ]
  },
  {
   "cell_type": "code",
   "execution_count": 25,
   "metadata": {
    "collapsed": false
   },
   "outputs": [
    {
     "name": "stdout",
     "output_type": "stream",
     "text": [
      "B: \n",
      "[[3 2 4]\n",
      " [4 3 2]] (2L, 3L)\n",
      "C: \n",
      "[[2 3 4 4]\n",
      " [4 3 2 4]\n",
      " [4 3 4 2]] (3L, 4L)\n",
      "BC: \n",
      "[[30 27 32 28]\n",
      " [28 27 30 32]] (2L, 4L)\n"
     ]
    }
   ],
   "source": [
    "B = np.random.randint(low=1, high=5, size=(2, 3))\n",
    "C = np.random.randint(low=1, high=5, size=(3, 4))\n",
    "print 'B: \\n', B, B.shape\n",
    "print 'C: \\n', C, C.shape\n",
    "print 'BC: \\n', np.matmul(B, C), np.matmul(B, C).shape"
   ]
  },
  {
   "cell_type": "markdown",
   "metadata": {},
   "source": [
    "### identity matrix"
   ]
  },
  {
   "cell_type": "code",
   "execution_count": 26,
   "metadata": {
    "collapsed": false
   },
   "outputs": [
    {
     "name": "stdout",
     "output_type": "stream",
     "text": [
      "[[ 1.  0.  0.]\n",
      " [ 0.  1.  0.]\n",
      " [ 0.  0.  1.]]\n"
     ]
    }
   ],
   "source": [
    "I3 = np.identity(3)\n",
    "print I3"
   ]
  },
  {
   "cell_type": "markdown",
   "metadata": {},
   "source": [
    "### inverting a matrix"
   ]
  },
  {
   "cell_type": "code",
   "execution_count": 27,
   "metadata": {
    "collapsed": false
   },
   "outputs": [
    {
     "name": "stdout",
     "output_type": "stream",
     "text": [
      "D: \n",
      "[[-0.96884117  0.89897674  0.08409334  1.30352522]\n",
      " [ 1.42858574 -0.97563729  0.31149478  0.17837621]\n",
      " [ 0.62070076  0.01983091  0.41670472 -0.659434  ]\n",
      " [-0.55924867 -0.78419237 -1.95146234  0.877296  ]]\n",
      "D inverted: \n",
      "[[ 0.94857765  0.35225751  2.93267462  0.72333181]\n",
      " [ 1.32554726 -0.3408265   3.53626357  0.75783258]\n",
      " [-0.53804785  0.25207037 -2.31093786 -0.98885144]\n",
      " [ 0.59272438  0.48060385 -0.11000039  0.07876764]]\n",
      "Dinv*D: \n",
      "[[  1.00000000e+00   1.11022302e-16  -4.44089210e-16   1.11022302e-16]\n",
      " [ -5.55111512e-16   1.00000000e+00  -6.66133815e-16   4.44089210e-16]\n",
      " [  3.33066907e-16   1.11022302e-16   1.00000000e+00   0.00000000e+00]\n",
      " [  8.32667268e-17   0.00000000e+00   0.00000000e+00   1.00000000e+00]]\n"
     ]
    }
   ],
   "source": [
    "D = np.random.normal(size=(4, 4))\n",
    "Dinv = np.linalg.inv(D)\n",
    "print 'D: \\n', D\n",
    "print 'D inverted: \\n', Dinv\n",
    "print 'Dinv*D: \\n', np.matmul(Dinv, D)"
   ]
  },
  {
   "cell_type": "markdown",
   "metadata": {},
   "source": [
    "#### inverting a singular matrix\n",
    "will crash"
   ]
  },
  {
   "cell_type": "code",
   "execution_count": 28,
   "metadata": {
    "collapsed": false
   },
   "outputs": [
    {
     "name": "stdout",
     "output_type": "stream",
     "text": [
      "F: \n",
      "[[-0.96884117  0.89897674  0.08409334  0.08409334]\n",
      " [ 1.42858574 -0.97563729  0.31149478  0.31149478]\n",
      " [ 0.62070076  0.01983091  0.41670472  0.41670472]\n",
      " [-0.55924867 -0.78419237 -1.95146234 -1.95146234]] (4L, 4L)\n",
      "matrix rank:  3\n",
      "F inv: \n",
      ":  Singular matrix\n"
     ]
    }
   ],
   "source": [
    "F = D\n",
    "F[:, -1] = F[:, -2]\n",
    "print 'F: \\n', F, F.shape\n",
    "print 'matrix rank: ', np.linalg.matrix_rank(F)\n",
    "try:\n",
    "    print 'F inv: \\n: ', np.linalg.inv(F)\n",
    "except Exception, e:\n",
    "    print e\n"
   ]
  },
  {
   "cell_type": "markdown",
   "metadata": {},
   "source": [
    "#### inverting a matrix that has more columns than rows"
   ]
  },
  {
   "cell_type": "code",
   "execution_count": 31,
   "metadata": {
    "collapsed": false
   },
   "outputs": [
    {
     "name": "stdout",
     "output_type": "stream",
     "text": [
      "Last 2 dimensions of the array must be square\n"
     ]
    }
   ],
   "source": [
    "G = np.random.normal(size=(4,5))\n",
    "try:\n",
    "    print np.linalg.inv(G)\n",
    "except Exception, e:\n",
    "    print e"
   ]
  },
  {
   "cell_type": "markdown",
   "metadata": {},
   "source": [
    "works fine with pseudo-inverse"
   ]
  },
  {
   "cell_type": "code",
   "execution_count": 32,
   "metadata": {
    "collapsed": false
   },
   "outputs": [
    {
     "name": "stdout",
     "output_type": "stream",
     "text": [
      "[[ 0.13309191  0.13484287 -0.38539383 -0.279889  ]\n",
      " [-0.33737904  0.09649636  0.26120644 -0.02573666]\n",
      " [-0.67357993  0.3158949   0.36988622  0.5421029 ]\n",
      " [ 0.21514416 -0.34533174 -0.43541185 -0.13911749]\n",
      " [-0.23441776  0.35997026  0.19149621  0.81128248]]\n"
     ]
    }
   ],
   "source": [
    "print np.linalg.pinv(G)"
   ]
  },
  {
   "cell_type": "markdown",
   "metadata": {},
   "source": [
    "### Norm"
   ]
  },
  {
   "cell_type": "code",
   "execution_count": 33,
   "metadata": {
    "collapsed": false
   },
   "outputs": [
    {
     "name": "stdout",
     "output_type": "stream",
     "text": [
      "5.38516480713\n",
      "9\n",
      "5.38516480713\n"
     ]
    }
   ],
   "source": [
    "v = np.array([2, 3, 4])\n",
    "print np.linalg.norm(v) # this is the frobenius norm\n",
    "print np.linalg.norm(v, ord=1)\n",
    "print np.linalg.norm(v, ord=2)"
   ]
  },
  {
   "cell_type": "markdown",
   "metadata": {},
   "source": [
    "### diagonal matrix"
   ]
  },
  {
   "cell_type": "code",
   "execution_count": 34,
   "metadata": {
    "collapsed": false
   },
   "outputs": [
    {
     "name": "stdout",
     "output_type": "stream",
     "text": [
      "[[2 0 0]\n",
      " [0 3 0]\n",
      " [0 0 4]]\n"
     ]
    }
   ],
   "source": [
    "print np.diag(v)"
   ]
  },
  {
   "cell_type": "markdown",
   "metadata": {},
   "source": [
    "### Eigendecomposition\n",
    "let's work with square matrices for now"
   ]
  },
  {
   "cell_type": "code",
   "execution_count": 35,
   "metadata": {
    "collapsed": false
   },
   "outputs": [
    {
     "name": "stdout",
     "output_type": "stream",
     "text": [
      "[[1 2 2 1 4]\n",
      " [4 2 3 1 2]\n",
      " [3 3 2 2 4]\n",
      " [1 4 3 1 2]\n",
      " [3 4 2 2 3]]\n"
     ]
    }
   ],
   "source": [
    "H = np.random.randint(1, high=5, size=(5,5))\n",
    "print H"
   ]
  },
  {
   "cell_type": "code",
   "execution_count": 36,
   "metadata": {
    "collapsed": false,
    "scrolled": false
   },
   "outputs": [
    {
     "name": "stdout",
     "output_type": "stream",
     "text": [
      "[ 12.33983898+0.j          -0.84127932+1.73231545j  -0.84127932-1.73231545j\n",
      "  -1.81388549+0.j           0.15660516+0.j        ]\n",
      "\n",
      "[[-0.37760492+0.j         -0.14648114+0.30780554j -0.14648114-0.30780554j\n",
      "   0.43843243+0.j          0.24126848+0.j        ]\n",
      " [-0.42929274+0.j          0.59849246+0.j          0.59849246-0.j\n",
      "  -0.34399649+0.j          0.27411772+0.j        ]\n",
      " [-0.50658328+0.j         -0.14114664+0.24663095j -0.14114664-0.24663095j\n",
      "  -0.27456255+0.j         -0.33551505+0.j        ]\n",
      " [-0.40706966+0.j         -0.20404430-0.55490514j -0.20404430+0.55490514j\n",
      "   0.76042287+0.j         -0.84698195+0.j        ]\n",
      " [-0.50078932+0.j         -0.24353773-0.18971607j -0.24353773+0.18971607j\n",
      "  -0.18925086+0.j          0.19157301+0.j        ]]\n"
     ]
    }
   ],
   "source": [
    "eigenvalues, eigenvectors = np.linalg.eig(H)\n",
    "print eigenvalues\n",
    "print ''\n",
    "print eigenvectors"
   ]
  },
  {
   "cell_type": "markdown",
   "metadata": {},
   "source": [
    "Scary imaginary numbers in the eigenvalues and eigenvectors... not what we were hoping for. The textbook says: \n",
    ">Not every matrix can be decomposed into eigenvalues and eigenvectors. In some cases, the decomposition exists, but may involve complex rather than real numbers. Fortunately, in this book, we usually need to decompose only a speciﬁc class of matrices that have a simple decomposition. Speciﬁcally, every real symmetric matrix can be decomposed into an expression using only real-valued eigenvectors and eigenvalues"
   ]
  },
  {
   "cell_type": "markdown",
   "metadata": {},
   "source": [
    "So let's create a symmetric matrix"
   ]
  },
  {
   "cell_type": "code",
   "execution_count": 37,
   "metadata": {
    "collapsed": false
   },
   "outputs": [
    {
     "name": "stdout",
     "output_type": "stream",
     "text": [
      "[[ 1.5  -0.25  0.75  0.5   0.25]\n",
      " [-0.25  1.3   0.1  -0.1   0.1 ]\n",
      " [ 0.75  0.1   0.7   0.05  0.45]\n",
      " [ 0.5  -0.1   0.05  1.7   0.55]\n",
      " [ 0.25  0.1   0.45  0.55  0.7 ]]\n"
     ]
    }
   ],
   "source": [
    "Hsym = np.cov(H)\n",
    "print Hsym"
   ]
  },
  {
   "cell_type": "code",
   "execution_count": 38,
   "metadata": {
    "collapsed": false
   },
   "outputs": [
    {
     "name": "stdout",
     "output_type": "stream",
     "text": [
      "Eigenvalues: \n",
      "[  2.57269623e+00  -7.76749541e-16   5.61445909e-01   1.40559765e+00\n",
      "   1.36026021e+00]\n",
      "\n",
      "Eigenvectors: \n",
      "[[-0.62592622  0.37002236  0.44664893  0.47731035  0.20971262]\n",
      " [ 0.11711122  0.06727679  0.32403367 -0.53839048  0.76609182]\n",
      " [-0.34144901 -0.72322553 -0.34083069  0.24271405  0.43044365]\n",
      " [-0.60378671 -0.25228797  0.20180663 -0.60960121 -0.39931545]\n",
      " [-0.3366831   0.52139515 -0.73390424 -0.22756709  0.15617098]]\n"
     ]
    },
    {
     "data": {
      "image/png": "[encoded data removed]",
      "text/plain": [
       "<matplotlib.figure.Figure at 0x763b5f8>"
      ]
     },
     "metadata": {},
     "output_type": "display_data"
    },
    {
     "data": {
      "image/png": "[encoded data removed]",
      "text/plain": [
       "<matplotlib.figure.Figure at 0x763b208>"
      ]
     },
     "metadata": {},
     "output_type": "display_data"
    }
   ],
   "source": [
    "eigenvalues_sym, eigenvectors_sym = np.linalg.eig(Hsym)\n",
    "plt.plot(eigenvalues_sym), plt.title('eigenvalues')\n",
    "plt.figure()\n",
    "plt.imshow(eigenvectors_sym, interpolation='nearest'), plt.title('eigenvectors_sym')\n",
    "print 'Eigenvalues: \\n', eigenvalues_sym\n",
    "print ''\n",
    "print 'Eigenvectors: \\n', eigenvectors_sym"
   ]
  },
  {
   "cell_type": "markdown",
   "metadata": {},
   "source": [
    "no more imaginary numbers! Or we can just use..."
   ]
  },
  {
   "cell_type": "markdown",
   "metadata": {},
   "source": [
    "### Determinant\n",
    ">The determinant of a square matrix, denoteddet(A), is a function mappingmatrices to real scalars. The determinant is equal to the product of all theeigenvalues of the matrix. The absolute value of the determinant can be thoughtof as a measure of how much multiplication by the matrix expands or contractsspace. If the determinant is 0, then space is contracted completely along at leastone dimension, causing it to lose all of its volume. If the determinant is 1, thenthe transformation is volume-preserving."
   ]
  },
  {
   "cell_type": "markdown",
   "metadata": {},
   "source": [
    "A non-symmetric square matrix:"
   ]
  },
  {
   "cell_type": "code",
   "execution_count": 46,
   "metadata": {
    "collapsed": false
   },
   "outputs": [
    {
     "name": "stdout",
     "output_type": "stream",
     "text": [
      "-13.0\n"
     ]
    }
   ],
   "source": [
    "print np.linalg.det(H)"
   ]
  },
  {
   "cell_type": "markdown",
   "metadata": {},
   "source": [
    "symmetric matrix:"
   ]
  },
  {
   "cell_type": "code",
   "execution_count": 47,
   "metadata": {
    "collapsed": false
   },
   "outputs": [
    {
     "name": "stdout",
     "output_type": "stream",
     "text": [
      "-1.15619319674e-16\n"
     ]
    }
   ],
   "source": [
    "print np.linalg.det(Hsym)"
   ]
  },
  {
   "cell_type": "markdown",
   "metadata": {},
   "source": [
    "### Singular value decomposition"
   ]
  },
  {
   "cell_type": "code",
   "execution_count": 39,
   "metadata": {
    "collapsed": false
   },
   "outputs": [
    {
     "name": "stdout",
     "output_type": "stream",
     "text": [
      "Shapes:\n",
      "u:  (5L, 5L)\n",
      "s:  (5L,)\n",
      "v:  (5L, 5L)\n"
     ]
    },
    {
     "data": {
      "text/plain": [
       "(<matplotlib.image.AxesImage at 0x7e2d908>,\n",
       " <matplotlib.text.Text at 0x7d71e48>)"
      ]
     },
     "execution_count": 39,
     "metadata": {},
     "output_type": "execute_result"
    },
    {
     "data": {
      "image/png": "[encoded data removed]",
      "text/plain": [
       "<matplotlib.figure.Figure at 0x38b1f98>"
      ]
     },
     "metadata": {},
     "output_type": "display_data"
    }
   ],
   "source": [
    "u, s, v = np.linalg.svd(H)\n",
    "\n",
    "print 'Shapes:'\n",
    "print 'u: ', u.shape\n",
    "print 's: ', s.shape\n",
    "print 'v: ', v.shape\n",
    "\n",
    "fig, ax = plt.subplots(1, 3)\n",
    "ax[0].imshow(u, interpolation='nearest'), ax[0].set_title('u')\n",
    "ax[1].imshow(s[:, np.newaxis], interpolation='nearest'), ax[1].set_title('s')\n",
    "ax[2].imshow(v, interpolation='nearest'), ax[2].set_title('v')\n",
    "\n"
   ]
  },
  {
   "cell_type": "markdown",
   "metadata": {
    "collapsed": true
   },
   "source": [
    "### Trace operator"
   ]
  },
  {
   "cell_type": "code",
   "execution_count": 43,
   "metadata": {
    "collapsed": false
   },
   "outputs": [
    {
     "name": "stdout",
     "output_type": "stream",
     "text": [
      "[[1 2 2 1 4]\n",
      " [4 2 3 1 2]\n",
      " [3 3 2 2 4]\n",
      " [1 4 3 1 2]\n",
      " [3 4 2 2 3]]\n",
      "[1 2 2 1 3]\n",
      "9\n"
     ]
    }
   ],
   "source": [
    "print H\n",
    "print np.trace(H)"
   ]
  }
 ],
 "metadata": {
  "kernelspec": {
   "display_name": "Python 2",
   "language": "python",
   "name": "python2"
  },
  "language_info": {
   "codemirror_mode": {
    "name": "ipython",
    "version": 2
   },
   "file_extension": ".py",
   "mimetype": "text/x-python",
   "name": "python",
   "nbconvert_exporter": "python",
   "pygments_lexer": "ipython2",
   "version": "2.7.11"
  }
 },
 "nbformat": 4,
 "nbformat_minor": 0
}
