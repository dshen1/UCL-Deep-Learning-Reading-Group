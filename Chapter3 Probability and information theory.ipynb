{
 "cells": [
  {
   "cell_type": "code",
   "execution_count": 8,
   "metadata": {
    "collapsed": false
   },
   "outputs": [
    {
     "name": "stdout",
     "output_type": "stream",
     "text": [
      "['__annotations__', '__call__', '__class__', '__closure__', '__code__', '__defaults__', '__delattr__', '__dict__', '__dir__', '__doc__', '__eq__', '__format__', '__ge__', '__get__', '__getattribute__', '__globals__', '__gt__', '__hash__', '__init__', '__kwdefaults__', '__le__', '__lt__', '__module__', '__name__', '__ne__', '__new__', '__qualname__', '__reduce__', '__reduce_ex__', '__repr__', '__setattr__', '__sizeof__', '__str__', '__subclasshook__']\n"
     ]
    }
   ],
   "source": [
    "import numpy as np\n",
    "from scipy.stats import uniform\n",
    "import matplotlib.pyplot as plt\n",
    "fig, ax = plt.subplots(1, 1)\n",
    "%matplotlib inline\n",
    "print(dir(np.linspace))\n"
   ]
  },
  {
   "cell_type": "code",
   "execution_count": 30,
   "metadata": {
    "collapsed": false
   },
   "outputs": [
    {
     "data": {
      "text/plain": [
       "<matplotlib.text.Text at 0x10cbf4ef0>"
      ]
     },
     "execution_count": 30,
     "metadata": {},
     "output_type": "execute_result"
    },
    {
     "data": {
      "image/png": "[encoded data removed]",
      "text/plain": [
       "<matplotlib.figure.Figure at 0x1052bc0f0>"
      ]
     },
     "metadata": {},
     "output_type": "display_data"
    }
   ],
   "source": [
    "# Probability mass function \n",
    "\n",
    "# a random variable X may take k different values, for example different outcomes from the roll of a fair 6 sided dice\n",
    "x = np.array([1, 2, 3, 4, 5, 6])\n",
    "\n",
    "# uniform distribution on x\n",
    "P_dice1 = 1/np.size(x)\n",
    "P_dice = np.repeat(P_dice1,np.size(x))\n",
    "              \n",
    "plt.plot(x,P_dice); plt.axis([0, np.size(x)+1, 0, 1]); plt.ylabel('P(x)'); plt.xlabel('x')\n",
    "plt.title('graph of the pmf')\n"
   ]
  },
  {
   "cell_type": "code",
   "execution_count": 49,
   "metadata": {
    "collapsed": false
   },
   "outputs": [
    {
     "data": {
      "text/plain": [
       "<matplotlib.text.Text at 0x113d60358>"
      ]
     },
     "execution_count": 49,
     "metadata": {},
     "output_type": "execute_result"
    },
    {
     "data": {
      "image/png": "[encoded data removed]",
      "text/plain": [
       "<matplotlib.figure.Figure at 0x113fdc4a8>"
      ]
     },
     "metadata": {},
     "output_type": "display_data"
    }
   ],
   "source": [
    "# Probability density function \n",
    "# the probability that x lies in the interval [a,b]\n",
    "\n",
    "# lets say within a uniform distribution\n",
    "a = 0.5; b = 0.75\n",
    "\n",
    "# uniform distribution with pds (following bookchapter)\n",
    "p = 1/(b-a) \n",
    "\n",
    "plt.plot(np.array([a,b]),np.repeat(p,np.size(np.array([a,b])))); \n",
    "plt.axis([0, 1, 0, 2*p]); \n",
    "plt.ylabel('p(x)'); plt.xlabel('x')\n",
    "plt.title('graph of the pdf')\n",
    "\n",
    "# gives the probability of landing within a and b"
   ]
  },
  {
   "cell_type": "code",
   "execution_count": 16,
   "metadata": {
    "collapsed": false
   },
   "outputs": [
    {
     "data": {
      "text/plain": [
       "0.33333333333333331"
      ]
     },
     "execution_count": 16,
     "metadata": {},
     "output_type": "execute_result"
    }
   ],
   "source": [
    "# marginal probability\n",
    "\n",
    "# lets say the probability of getting a 3 or 5 on a dice throw\n",
    "# use the sum rule as dealing with random variables\n",
    "P_dice[2] + P_dice[4]"
   ]
  },
  {
   "cell_type": "code",
   "execution_count": 20,
   "metadata": {
    "collapsed": false
   },
   "outputs": [
    {
     "data": {
      "text/plain": [
       "0.3333333333333333"
      ]
     },
     "execution_count": 20,
     "metadata": {},
     "output_type": "execute_result"
    }
   ],
   "source": [
    "# Chain rule & conditional probability\n",
    "\n",
    "# Example - urn 1 has 1 black and 2 white balls, urn 2 has 1 black and 3 white balls. \n",
    "# Say we pick urn at random (Event a) and select a ball from that urn (Event b).\n",
    "# what is the probability to pick a white ball from urn 1?\n",
    "P_a = 1/2 # probability to pick urn 1 is 1 our of 2.\n",
    "urn = 1\n",
    "# probability to find the white ball\n",
    "P_b = 2/3 if urn == 1 else 3/4 \n",
    "# probability to pick white ball from urn 1.\n",
    "P = P_b * P_a\n",
    "P"
   ]
  },
  {
   "cell_type": "code",
   "execution_count": 21,
   "metadata": {
    "collapsed": false
   },
   "outputs": [
    {
     "data": {
      "text/plain": [
       "0.027777777777777776"
      ]
     },
     "execution_count": 21,
     "metadata": {},
     "output_type": "execute_result"
    }
   ],
   "source": [
    "# Independence\n",
    "\n",
    "# probality when rolling a dice twice to get a 1 and then a 2.\n",
    "P_dice[0]*P_dice[1]\n"
   ]
  },
  {
   "cell_type": "code",
   "execution_count": 22,
   "metadata": {
    "collapsed": false
   },
   "outputs": [
    {
     "data": {
      "text/plain": [
       "0.083333333333333329"
      ]
     },
     "execution_count": 22,
     "metadata": {},
     "output_type": "execute_result"
    }
   ],
   "source": [
    "# Independent but conditional Dependent\n",
    "\n",
    "# you know first dice roll is 1 and \n",
    "# somebody tells you about a third event: that the sum of the first and second roll is even.\n",
    "# This restricts the options for the outcome of the second dice roll (event 2)\n",
    "\n",
    "P_dice[0]*(P_dice[0]+P_dice[3]+P_dice[5])"
   ]
  },
  {
   "cell_type": "code",
   "execution_count": 27,
   "metadata": {
    "collapsed": false
   },
   "outputs": [
    {
     "data": {
      "text/plain": [
       "10.0"
      ]
     },
     "execution_count": 27,
     "metadata": {},
     "output_type": "execute_result"
    }
   ],
   "source": [
    "# Expectation\n",
    "\n",
    "# example: coin flipping. Two outcomes --> heads and tails. If coin is head you get 20 pound, otherwise nothing\n",
    "# Payout is X\n",
    "X_H = 20\n",
    "X_T = 0\n",
    "\n",
    "# The expected value is E = (P_heads * X_H)+(P_tails * X_T)\n",
    "E_X = (0.5 * 20)+(0.5*0)\n",
    "E_X"
   ]
  },
  {
   "cell_type": "code",
   "execution_count": 29,
   "metadata": {
    "collapsed": false
   },
   "outputs": [
    {
     "data": {
      "text/plain": [
       "100.0"
      ]
     },
     "execution_count": 29,
     "metadata": {},
     "output_type": "execute_result"
    }
   ],
   "source": [
    "# Variance\n",
    "\n",
    "# function: E(X2 - (E(X)2))\n",
    "E_X2 = (0.5 * 400)+ (0.5*0)\n",
    "Var_X = E_X2 - (E_X*E_X)\n",
    "Var_X"
   ]
  }
 ],
 "metadata": {
  "kernelspec": {
   "display_name": "Python 3",
   "language": "python",
   "name": "python3"
  },
  "language_info": {
   "codemirror_mode": {
    "name": "ipython",
    "version": 3
   },
   "file_extension": ".py",
   "mimetype": "text/x-python",
   "name": "python",
   "nbconvert_exporter": "python",
   "pygments_lexer": "ipython3",
   "version": "3.5.1"
  }
 },
 "nbformat": 4,
 "nbformat_minor": 0
}
